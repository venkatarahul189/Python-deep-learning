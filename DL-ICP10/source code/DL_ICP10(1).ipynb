{
  "nbformat": 4,
  "nbformat_minor": 0,
  "metadata": {
    "colab": {
      "name": "DL-ICP10(1).ipynb",
      "provenance": []
    },
    "kernelspec": {
      "name": "python3",
      "display_name": "Python 3"
    },
    "language_info": {
      "name": "python"
    }
  },
  "cells": [
    {
      "cell_type": "code",
      "metadata": {
        "colab": {
          "base_uri": "https://localhost:8080/"
        },
        "id": "VzW3zhjsiw5w",
        "outputId": "0e905f89-8d4f-4564-8d7f-c1b10d838d0f"
      },
      "source": [
        "#Here i took these libraries \n",
        "from keras.models import Sequential\n",
        "from keras import layers\n",
        "from keras.preprocessing.text import Tokenizer\n",
        "import pandas as pd\n",
        "from sklearn import preprocessing\n",
        "from sklearn.model_selection import train_test_split\n",
        "#first i imported the dataset \n",
        "df = pd.read_csv('imdb_master.csv',encoding='latin-1')\n",
        "print(df.head())\n",
        "#Here i removed Unnecessary label from dataset\n",
        "df = df[df['label']!='unsup']\n",
        "sentences = df['review'].values\n",
        "y = df['label'].values\n",
        "\n",
        "\n",
        "#tokenizing data\n",
        "tokenizer = Tokenizer(num_words=2000)\n",
        "#here i used this to update internal vocabulary based on a listof texts\n",
        "tokenizer.fit_on_texts(sentences)\n",
        "#Getting the vocabulary of data\n",
        "sentences = tokenizer.texts_to_matrix(sentences)\n",
        "\n",
        "le = preprocessing.LabelEncoder()\n",
        "y = le.fit_transform(y)\n",
        "X_train, X_test, y_train, y_test = train_test_split(sentences, y, test_size=0.25, random_state=1000)\n",
        "\n",
        "# Number of features\n",
        "# print(input_dim)\n",
        "model = Sequential()\n",
        "model.add(layers.Dense(300,input_dim= 2000, activation='relu'))\n",
        "#changing number of neuron 3 to 2 as we have only two labels Pos and Neg\n",
        "model.add(layers.Dense(2, activation='sigmoid')) \n",
        "model.compile(loss='sparse_categorical_crossentropy',optimizer='adam',metrics=['acc'])\n",
        "history=model.fit(X_train,y_train, epochs=5, verbose=True, validation_data=(X_test,y_test), batch_size=256)\n",
        "#Here i printed the data by using model evaluate\n",
        "test_loss, test_acc = model.evaluate(X_test, y_test)\n",
        "print(test_acc)"
      ],
      "execution_count": 2,
      "outputs": [
        {
          "output_type": "stream",
          "text": [
            "   Unnamed: 0  type  ... label         file\n",
            "0           0  test  ...   neg      0_2.txt\n",
            "1           1  test  ...   neg  10000_4.txt\n",
            "2           2  test  ...   neg  10001_1.txt\n",
            "3           3  test  ...   neg  10002_3.txt\n",
            "4           4  test  ...   neg  10003_3.txt\n",
            "\n",
            "[5 rows x 5 columns]\n",
            "Epoch 1/5\n",
            "147/147 [==============================] - 3s 18ms/step - loss: 0.4164 - acc: 0.8047 - val_loss: 0.2944 - val_acc: 0.8798\n",
            "Epoch 2/5\n",
            "147/147 [==============================] - 3s 17ms/step - loss: 0.2451 - acc: 0.9039 - val_loss: 0.2907 - val_acc: 0.8770\n",
            "Epoch 3/5\n",
            "147/147 [==============================] - 3s 17ms/step - loss: 0.1969 - acc: 0.9262 - val_loss: 0.2916 - val_acc: 0.8798\n",
            "Epoch 4/5\n",
            "147/147 [==============================] - 3s 17ms/step - loss: 0.1301 - acc: 0.9596 - val_loss: 0.3121 - val_acc: 0.8761\n",
            "Epoch 5/5\n",
            "147/147 [==============================] - 3s 17ms/step - loss: 0.0703 - acc: 0.9853 - val_loss: 0.3325 - val_acc: 0.8764\n",
            "391/391 [==============================] - 1s 2ms/step - loss: 0.3325 - acc: 0.8764\n",
            "0.8763999938964844\n"
          ],
          "name": "stdout"
        }
      ]
    }
  ]
}