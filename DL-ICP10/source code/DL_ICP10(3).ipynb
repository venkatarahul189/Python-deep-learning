{
  "nbformat": 4,
  "nbformat_minor": 0,
  "metadata": {
    "colab": {
      "name": "DL-ICP10(3).ipynb",
      "provenance": []
    },
    "kernelspec": {
      "name": "python3",
      "display_name": "Python 3"
    },
    "language_info": {
      "name": "python"
    }
  },
  "cells": [
    {
      "cell_type": "code",
      "metadata": {
        "colab": {
          "base_uri": "https://localhost:8080/"
        },
        "id": "cUt9wx9a0-J4",
        "outputId": "688a13ea-17cf-4895-b6c1-640b43ca33d5"
      },
      "source": [
        "from keras.models import Sequential\n",
        "from keras import layers\n",
        "from keras.preprocessing.text import Tokenizer\n",
        "import pandas as pd\n",
        "from sklearn import preprocessing\n",
        "#Here i imported the \"fetch_20newsgroups\" data\n",
        "from sklearn.datasets import fetch_20newsgroups\n",
        "from sklearn.model_selection import train_test_split\n",
        "from keras.preprocessing.sequence import pad_sequences\n",
        "from keras.layers import Embedding, Flatten\n",
        "#here i taken the 'categories' data as ctg\n",
        "ctg = ['alt.atheism', 'sci.space']\n",
        "ngt = fetch_20newsgroups(subset='train', shuffle=True, categories=ctg)\n",
        "sentences=ngt.data\n",
        "y=ngt.target\n",
        "\n",
        "\n",
        "le = preprocessing.LabelEncoder()\n",
        "y = le.fit_transform(y)\n",
        "\n",
        "#tokenizing data\n",
        "tokenizer = Tokenizer(num_words=2000)\n",
        "tokenizer.fit_on_texts(sentences)\n",
        "\n",
        "#tokenizing data\n",
        "tokenizer = Tokenizer(num_words=2000)\n",
        "tokenizer.fit_on_texts(sentences)\n",
        "max_review_len = max([len(s.split()) for s in sentences])\n",
        "vocab_size = len(tokenizer.word_index)+1\n",
        "X_train, X_test, y_train, y_test = train_test_split(sentences, y, test_size=0.25, random_state=1000)\n",
        "X_train_tokens = tokenizer.texts_to_sequences(X_train)\n",
        "X_test_tokens = tokenizer.texts_to_sequences(X_test)\n",
        "padded_train = pad_sequences(X_train_tokens,maxlen=max_review_len)\n",
        "paded_test = pad_sequences(X_test_tokens,maxlen=max_review_len)\n",
        "#number of features\n",
        "model = Sequential()\n",
        "model.add(Embedding(vocab_size, 50, input_length=max_review_len))\n",
        "model.add(Flatten())\n",
        "model.add(layers.Dense(300, activation='relu'))\n",
        "#Here i changing the number of neuron to 2 as we have only two labels Pos and Neg\n",
        "model.add(layers.Dense(1, activation='sigmoid')) \n",
        "model.compile(loss='binary_crossentropy',optimizer='adam',metrics=['acc'])\n",
        "history=model.fit(padded_train,y_train, epochs=5, verbose=True, validation_data=(paded_test,y_test), batch_size=256)\n",
        "#Here i printed the data by using model evaluate\n",
        "test_loss, test_acc = model.evaluate(paded_test, y_test)\n",
        "print(test_acc)"
      ],
      "execution_count": null,
      "outputs": [
        {
          "output_type": "stream",
          "text": [
            "Epoch 1/5\n",
            "4/4 [==============================] - 18s 4s/step - loss: 10.9171 - acc: 0.5084 - val_loss: 12.0768 - val_acc: 0.4089\n",
            "Epoch 2/5\n",
            "4/4 [==============================] - 16s 4s/step - loss: 9.2045 - acc: 0.4791 - val_loss: 1.4283 - val_acc: 0.4089\n",
            "Epoch 3/5\n",
            "4/4 [==============================] - 15s 4s/step - loss: 1.7109 - acc: 0.5050 - val_loss: 2.2638 - val_acc: 0.5911\n",
            "Epoch 4/5\n",
            "4/4 [==============================] - 15s 4s/step - loss: 2.1796 - acc: 0.5362 - val_loss: 1.2637 - val_acc: 0.4052\n",
            "Epoch 5/5\n",
            "4/4 [==============================] - 15s 4s/step - loss: 1.2251 - acc: 0.4548 - val_loss: 0.7068 - val_acc: 0.5911\n",
            "9/9 [==============================] - 2s 192ms/step - loss: 0.7068 - acc: 0.5911\n",
            "0.5910780429840088\n"
          ],
          "name": "stdout"
        }
      ]
    },
    {
      "cell_type": "code",
      "metadata": {
        "id": "cWvgCto68UhL"
      },
      "source": [
        ""
      ],
      "execution_count": null,
      "outputs": []
    }
  ]
}