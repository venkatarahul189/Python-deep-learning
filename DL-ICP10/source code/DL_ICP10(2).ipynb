{
  "nbformat": 4,
  "nbformat_minor": 0,
  "metadata": {
    "colab": {
      "name": "DL-ICP10(2).ipynb",
      "provenance": []
    },
    "kernelspec": {
      "name": "python3",
      "display_name": "Python 3"
    },
    "language_info": {
      "name": "python"
    }
  },
  "cells": [
    {
      "cell_type": "code",
      "metadata": {
        "colab": {
          "base_uri": "https://localhost:8080/"
        },
        "id": "NIYVMN59yqaa",
        "outputId": "9e863417-853f-42b2-8490-1cc47566f2cb"
      },
      "source": [
        "from keras.models import Sequential\n",
        "from keras import layers\n",
        "from keras.preprocessing.text import Tokenizer\n",
        "import pandas as pd\n",
        "from sklearn import preprocessing\n",
        "from sklearn.model_selection import train_test_split\n",
        "from keras.preprocessing.sequence import pad_sequences\n",
        "from keras.layers import Embedding, Flatten\n",
        "\n",
        "df = pd.read_csv('imdb_master.csv',encoding='latin-1')\n",
        "print(df.head())\n",
        "df = df[df['label']!='unsup'] #Dropping Unnecessary labelfrom dataset\n",
        "sentences = df['review'].values\n",
        "y = df['label'].values\n",
        "\n",
        "le = preprocessing.LabelEncoder()\n",
        "y = le.fit_transform(y)\n",
        "\n",
        "#tokenizing data\n",
        "tokenizer = Tokenizer(num_words=2000)\n",
        "tokenizer.fit_on_texts(sentences)\n",
        "max_review_len = max([len(s.split()) for s in sentences])\n",
        "vocab_size = len(tokenizer.word_index)+1\n",
        "X_train, X_test, y_train, y_test = train_test_split(sentences, y, test_size=0.25, random_state=1000)\n",
        "X_train_tokens = tokenizer.texts_to_sequences(X_train)\n",
        "X_test_tokens = tokenizer.texts_to_sequences(X_test)\n",
        "padded_train = pad_sequences(X_train_tokens,maxlen=max_review_len)\n",
        "paded_test = pad_sequences(X_test_tokens,maxlen=max_review_len)\n",
        "\n",
        "model = Sequential()\n",
        "model.add(Embedding(vocab_size, 50, input_length=max_review_len))\n",
        "model.add(Flatten())\n",
        "model.add(layers.Dense(300, activation='relu'))\n",
        "model.add(layers.Dense(1, activation='sigmoid')) #changing number of neuron to 2 as we have only two labels Pos and Neg\n",
        "model.compile(loss='binary_crossentropy',optimizer='adam',metrics=['acc'])\n",
        "history=model.fit(padded_train,y_train, epochs=5, verbose=True, validation_data=(paded_test,y_test), batch_size=256)\n",
        "#Here i printed the data by using model evaluate\n",
        "test_loss, test_acc = model.evaluate(paded_test, y_test)\n",
        "print(test_acc)\n"
      ],
      "execution_count": null,
      "outputs": [
        {
          "output_type": "stream",
          "text": [
            "   Unnamed: 0  type  ... label         file\n",
            "0           0  test  ...   neg      0_2.txt\n",
            "1           1  test  ...   neg  10000_4.txt\n",
            "2           2  test  ...   neg  10001_1.txt\n",
            "3           3  test  ...   neg  10002_3.txt\n",
            "4           4  test  ...   neg  10003_3.txt\n",
            "\n",
            "[5 rows x 5 columns]\n",
            "Epoch 1/5\n",
            "147/147 [==============================] - 203s 1s/step - loss: 0.9308 - acc: 0.6261 - val_loss: 0.3180 - val_acc: 0.8638\n",
            "Epoch 2/5\n",
            "147/147 [==============================] - 201s 1s/step - loss: 0.2490 - acc: 0.9016 - val_loss: 0.2864 - val_acc: 0.8803\n",
            "Epoch 3/5\n",
            "147/147 [==============================] - 201s 1s/step - loss: 0.1725 - acc: 0.9379 - val_loss: 0.3003 - val_acc: 0.8784\n",
            "Epoch 4/5\n",
            "147/147 [==============================] - 201s 1s/step - loss: 0.1037 - acc: 0.9726 - val_loss: 0.3398 - val_acc: 0.8713\n",
            "Epoch 5/5\n",
            "147/147 [==============================] - 201s 1s/step - loss: 0.0471 - acc: 0.9936 - val_loss: 0.3907 - val_acc: 0.8678\n",
            "391/391 [==============================] - 24s 61ms/step - loss: 0.3907 - acc: 0.8678\n",
            "0.8677600026130676\n"
          ],
          "name": "stdout"
        }
      ]
    }
  ]
}