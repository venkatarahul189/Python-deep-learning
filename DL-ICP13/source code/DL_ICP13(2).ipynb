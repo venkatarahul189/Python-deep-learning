{
  "nbformat": 4,
  "nbformat_minor": 0,
  "metadata": {
    "colab": {
      "name": "DL_ICP13(2).ipynb",
      "provenance": []
    },
    "kernelspec": {
      "name": "python3",
      "display_name": "Python 3"
    },
    "language_info": {
      "name": "python"
    }
  },
  "cells": [
    {
      "cell_type": "code",
      "metadata": {
        "colab": {
          "base_uri": "https://localhost:8080/",
          "height": 588
        },
        "id": "QHGMC944cySj",
        "outputId": "6b574f58-ae0b-4daf-8072-867d5b865999"
      },
      "source": [
        "from keras.layers import Input, Dense\n",
        "from keras.models import Model\n",
        "\n",
        "# this is the size of our encoded representations\n",
        "encoding_dim = 32  # 32 floats -> compression of factor 24.5, assuming the input is 784 floats\n",
        "\n",
        "# this is our input placeholder\n",
        "input_img = Input(shape=(784,))\n",
        "# \"encoded\" is the encoded representation of the input\n",
        "encoded = Dense(encoding_dim, activation='relu')(input_img)\n",
        "# \"decoded\" is the lossy reconstruction of the input\n",
        "decoded = Dense(784, activation='sigmoid')(encoded)\n",
        "# this model maps an input to its reconstruction\n",
        "autoencoder = Model(input_img, decoded)\n",
        "# this model maps an input to its encoded representation\n",
        "autoencoder.compile(optimizer='adam', loss='binary_crossentropy')\n",
        "\n",
        "(x_train, _), (x_test, _) = fashion_mnist.load_data()\n",
        "x_train = x_train.astype('float32') / 255.\n",
        "x_test = x_test.astype('float32') / 255.\n",
        "x_train = x_train.reshape((len(x_train), np.prod(x_train.shape[1:])))\n",
        "x_test = x_test.reshape((len(x_test), np.prod(x_test.shape[1:])))\n",
        "\n",
        "# This is encoder model for predicting test images\n",
        "encoder = Model(input_img, encoded)\n",
        "encoded_input = Input(shape=(encoding_dim,))\n",
        "\n",
        "# Decoder model - take in last layer of autoencoder\n",
        "decoder_layer = autoencoder.layers[-1]\n",
        "\n",
        "decoder = Model(encoded_input, decoder_layer(encoded_input))\n",
        "\n",
        "(x_train, _), (x_test, _) = fashion_mnist.load_data()\n",
        "x_train = x_train.astype('float32') / 255.\n",
        "x_test = x_test.astype('float32') / 255.\n",
        "x_train = x_train.reshape((len(x_train), np.prod(x_train.shape[1:])))\n",
        "x_test = x_test.reshape((len(x_test), np.prod(x_test.shape[1:])))\n",
        "history = autoencoder.fit(x_train, x_train,\n",
        "                epochs=10,\n",
        "                batch_size=256,\n",
        "                shuffle=True,\n",
        "                validation_data=(x_test, x_test))\n",
        "\n",
        "Encoding_image = encoder.predict(x_test)\n",
        "Decoding_image = decoder.predict(Encoding_image)\n",
        "import matplotlib.pyplot as plt\n",
        "#This is the prediction of the figures\n",
        "#here n is the range of the figure \n",
        "n = 5\n",
        "plt.figure(figsize=(20, 4))\n",
        "for i in range(n):\n",
        "    # display original\n",
        "    A = plt.subplot(2, n, i + 1)\n",
        "    plt.imshow(x_test[i].reshape(28, 28))\n",
        "    plt.gray()\n",
        "    A.get_xaxis().set_visible(False)\n",
        "    A.get_yaxis().set_visible(False)\n",
        "\n",
        "    # display reconstruction\n",
        "    A = plt.subplot(2, n, i + 1 + n)\n",
        "    plt.imshow(decoded_imgs[i].reshape(28, 28))\n",
        "    plt.gray()\n",
        "    A.get_xaxis().set_visible(False)\n",
        "    A.get_yaxis().set_visible(False)\n",
        "plt.show()"
      ],
      "execution_count": 31,
      "outputs": [
        {
          "output_type": "stream",
          "text": [
            "Epoch 1/10\n",
            "235/235 [==============================] - 3s 12ms/step - loss: 0.4955 - val_loss: 0.3433\n",
            "Epoch 2/10\n",
            "235/235 [==============================] - 3s 11ms/step - loss: 0.3355 - val_loss: 0.3215\n",
            "Epoch 3/10\n",
            "235/235 [==============================] - 3s 11ms/step - loss: 0.3157 - val_loss: 0.3095\n",
            "Epoch 4/10\n",
            "235/235 [==============================] - 3s 11ms/step - loss: 0.3054 - val_loss: 0.3015\n",
            "Epoch 5/10\n",
            "235/235 [==============================] - 3s 11ms/step - loss: 0.2982 - val_loss: 0.2962\n",
            "Epoch 6/10\n",
            "235/235 [==============================] - 3s 11ms/step - loss: 0.2931 - val_loss: 0.2932\n",
            "Epoch 7/10\n",
            "235/235 [==============================] - 3s 11ms/step - loss: 0.2894 - val_loss: 0.2909\n",
            "Epoch 8/10\n",
            "235/235 [==============================] - 3s 11ms/step - loss: 0.2886 - val_loss: 0.2895\n",
            "Epoch 9/10\n",
            "235/235 [==============================] - 3s 11ms/step - loss: 0.2871 - val_loss: 0.2887\n",
            "Epoch 10/10\n",
            "235/235 [==============================] - 3s 11ms/step - loss: 0.2857 - val_loss: 0.2885\n"
          ],
          "name": "stdout"
        },
        {
          "output_type": "display_data",
          "data": {
            "image/png": "[encoded data removed]",
            "text/plain": [
              "<Figure size 1440x288 with 10 Axes>"
            ]
          },
          "metadata": {
            "tags": [],
            "needs_background": "light"
          }
        }
      ]
    }
  ]
}